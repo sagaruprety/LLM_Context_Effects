{
 "cells": [
  {
   "cell_type": "code",
   "execution_count": 5,
   "metadata": {},
   "outputs": [
    {
     "name": "stderr",
     "output_type": "stream",
     "text": [
      "/home/ccaesup/miniconda3/envs/LLM_Context_Effects/lib/python3.9/site-packages/sentence_transformers/cross_encoder/CrossEncoder.py:11: TqdmExperimentalWarning: Using `tqdm.autonotebook.tqdm` in notebook mode. Use `tqdm.tqdm` instead to force console mode (e.g. in jupyter console)\n",
      "  from tqdm.autonotebook import tqdm, trange\n"
     ]
    }
   ],
   "source": [
    "import pandas as pd\n",
    "import numpy as np\n",
    "from sentence_transformers import SentenceTransformer\n",
    "import hdbscan\n",
    "import ast\n",
    "import itertools\n",
    "\n",
    "df = pd.read_csv('./results/results_single_prompt_degree_cot_reasoning_factors_list.csv')"
   ]
  },
  {
   "cell_type": "code",
   "execution_count": 6,
   "metadata": {},
   "outputs": [],
   "source": [
    "def check_types(lst):\n",
    "    if not isinstance(lst,str):\n",
    "        print(f'not a string, the type for {lst} is {type(lst)}')\n",
    "    else:\n",
    "        try:\n",
    "            lst_convert = ast.literal_eval(lst)\n",
    "            return lst_convert\n",
    "        except:\n",
    "            print(f'error in converting {lst}, type is {type(lst)}')\n",
    "            return []"
   ]
  },
  {
   "cell_type": "code",
   "execution_count": 7,
   "metadata": {},
   "outputs": [
    {
     "name": "stdout",
     "output_type": "stream",
     "text": [
      "error in converting The text does not provide specific factors considered while comparing the countries., type is <class 'str'>\n",
      "error in converting The text does not provide specific factors considered while comparing the countries., type is <class 'str'>\n"
     ]
    }
   ],
   "source": [
    "df['processed_cot_reasoning_2'] = df['processed_cot_reasoning_2'].apply(check_types)"
   ]
  },
  {
   "cell_type": "code",
   "execution_count": 8,
   "metadata": {},
   "outputs": [
    {
     "data": {
      "text/plain": [
       "list"
      ]
     },
     "execution_count": 8,
     "metadata": {},
     "output_type": "execute_result"
    }
   ],
   "source": [
    "type(df['processed_cot_reasoning_2'][0])"
   ]
  },
  {
   "cell_type": "code",
   "execution_count": 9,
   "metadata": {},
   "outputs": [
    {
     "ename": "ValueError",
     "evalue": "malformed node or string: ['shared border', 'cultural exchange', 'historical ties', 'economic relationships', 'trade relationships', 'language', 'politics', 'culture', 'indigenous heritage', 'economic orientation', 'income inequality', 'crime rates', 'social issues']",
     "output_type": "error",
     "traceback": [
      "\u001b[0;31m---------------------------------------------------------------------------\u001b[0m",
      "\u001b[0;31mValueError\u001b[0m                                Traceback (most recent call last)",
      "Cell \u001b[0;32mIn[9], line 2\u001b[0m\n\u001b[1;32m      1\u001b[0m df[\u001b[38;5;124m'\u001b[39m\u001b[38;5;124mprocessed_cot_reasoning_1\u001b[39m\u001b[38;5;124m'\u001b[39m] \u001b[38;5;241m=\u001b[39m df[\u001b[38;5;124m'\u001b[39m\u001b[38;5;124mprocessed_cot_reasoning_1\u001b[39m\u001b[38;5;124m'\u001b[39m]\u001b[38;5;241m.\u001b[39mapply(\u001b[38;5;28;01mlambda\u001b[39;00m x: ast\u001b[38;5;241m.\u001b[39mliteral_eval(x))\n\u001b[0;32m----> 2\u001b[0m df[\u001b[38;5;124m'\u001b[39m\u001b[38;5;124mprocessed_cot_reasoning_2\u001b[39m\u001b[38;5;124m'\u001b[39m] \u001b[38;5;241m=\u001b[39m \u001b[43mdf\u001b[49m\u001b[43m[\u001b[49m\u001b[38;5;124;43m'\u001b[39;49m\u001b[38;5;124;43mprocessed_cot_reasoning_2\u001b[39;49m\u001b[38;5;124;43m'\u001b[39;49m\u001b[43m]\u001b[49m\u001b[38;5;241;43m.\u001b[39;49m\u001b[43mapply\u001b[49m\u001b[43m(\u001b[49m\u001b[38;5;28;43;01mlambda\u001b[39;49;00m\u001b[43m \u001b[49m\u001b[43mx\u001b[49m\u001b[43m:\u001b[49m\u001b[43m \u001b[49m\u001b[43mast\u001b[49m\u001b[38;5;241;43m.\u001b[39;49m\u001b[43mliteral_eval\u001b[49m\u001b[43m(\u001b[49m\u001b[43mx\u001b[49m\u001b[43m)\u001b[49m\u001b[43m)\u001b[49m\n",
      "File \u001b[0;32m~/miniconda3/envs/LLM_Context_Effects/lib/python3.9/site-packages/pandas/core/series.py:4917\u001b[0m, in \u001b[0;36mSeries.apply\u001b[0;34m(self, func, convert_dtype, args, by_row, **kwargs)\u001b[0m\n\u001b[1;32m   4789\u001b[0m \u001b[38;5;28;01mdef\u001b[39;00m \u001b[38;5;21mapply\u001b[39m(\n\u001b[1;32m   4790\u001b[0m     \u001b[38;5;28mself\u001b[39m,\n\u001b[1;32m   4791\u001b[0m     func: AggFuncType,\n\u001b[0;32m   (...)\u001b[0m\n\u001b[1;32m   4796\u001b[0m     \u001b[38;5;241m*\u001b[39m\u001b[38;5;241m*\u001b[39mkwargs,\n\u001b[1;32m   4797\u001b[0m ) \u001b[38;5;241m-\u001b[39m\u001b[38;5;241m>\u001b[39m DataFrame \u001b[38;5;241m|\u001b[39m Series:\n\u001b[1;32m   4798\u001b[0m \u001b[38;5;250m    \u001b[39m\u001b[38;5;124;03m\"\"\"\u001b[39;00m\n\u001b[1;32m   4799\u001b[0m \u001b[38;5;124;03m    Invoke function on values of Series.\u001b[39;00m\n\u001b[1;32m   4800\u001b[0m \n\u001b[0;32m   (...)\u001b[0m\n\u001b[1;32m   4915\u001b[0m \u001b[38;5;124;03m    dtype: float64\u001b[39;00m\n\u001b[1;32m   4916\u001b[0m \u001b[38;5;124;03m    \"\"\"\u001b[39;00m\n\u001b[0;32m-> 4917\u001b[0m     \u001b[38;5;28;01mreturn\u001b[39;00m \u001b[43mSeriesApply\u001b[49m\u001b[43m(\u001b[49m\n\u001b[1;32m   4918\u001b[0m \u001b[43m        \u001b[49m\u001b[38;5;28;43mself\u001b[39;49m\u001b[43m,\u001b[49m\n\u001b[1;32m   4919\u001b[0m \u001b[43m        \u001b[49m\u001b[43mfunc\u001b[49m\u001b[43m,\u001b[49m\n\u001b[1;32m   4920\u001b[0m \u001b[43m        \u001b[49m\u001b[43mconvert_dtype\u001b[49m\u001b[38;5;241;43m=\u001b[39;49m\u001b[43mconvert_dtype\u001b[49m\u001b[43m,\u001b[49m\n\u001b[1;32m   4921\u001b[0m \u001b[43m        \u001b[49m\u001b[43mby_row\u001b[49m\u001b[38;5;241;43m=\u001b[39;49m\u001b[43mby_row\u001b[49m\u001b[43m,\u001b[49m\n\u001b[1;32m   4922\u001b[0m \u001b[43m        \u001b[49m\u001b[43margs\u001b[49m\u001b[38;5;241;43m=\u001b[39;49m\u001b[43margs\u001b[49m\u001b[43m,\u001b[49m\n\u001b[1;32m   4923\u001b[0m \u001b[43m        \u001b[49m\u001b[43mkwargs\u001b[49m\u001b[38;5;241;43m=\u001b[39;49m\u001b[43mkwargs\u001b[49m\u001b[43m,\u001b[49m\n\u001b[1;32m   4924\u001b[0m \u001b[43m    \u001b[49m\u001b[43m)\u001b[49m\u001b[38;5;241;43m.\u001b[39;49m\u001b[43mapply\u001b[49m\u001b[43m(\u001b[49m\u001b[43m)\u001b[49m\n",
      "File \u001b[0;32m~/miniconda3/envs/LLM_Context_Effects/lib/python3.9/site-packages/pandas/core/apply.py:1427\u001b[0m, in \u001b[0;36mSeriesApply.apply\u001b[0;34m(self)\u001b[0m\n\u001b[1;32m   1424\u001b[0m     \u001b[38;5;28;01mreturn\u001b[39;00m \u001b[38;5;28mself\u001b[39m\u001b[38;5;241m.\u001b[39mapply_compat()\n\u001b[1;32m   1426\u001b[0m \u001b[38;5;66;03m# self.func is Callable\u001b[39;00m\n\u001b[0;32m-> 1427\u001b[0m \u001b[38;5;28;01mreturn\u001b[39;00m \u001b[38;5;28;43mself\u001b[39;49m\u001b[38;5;241;43m.\u001b[39;49m\u001b[43mapply_standard\u001b[49m\u001b[43m(\u001b[49m\u001b[43m)\u001b[49m\n",
      "File \u001b[0;32m~/miniconda3/envs/LLM_Context_Effects/lib/python3.9/site-packages/pandas/core/apply.py:1507\u001b[0m, in \u001b[0;36mSeriesApply.apply_standard\u001b[0;34m(self)\u001b[0m\n\u001b[1;32m   1501\u001b[0m \u001b[38;5;66;03m# row-wise access\u001b[39;00m\n\u001b[1;32m   1502\u001b[0m \u001b[38;5;66;03m# apply doesn't have a `na_action` keyword and for backward compat reasons\u001b[39;00m\n\u001b[1;32m   1503\u001b[0m \u001b[38;5;66;03m# we need to give `na_action=\"ignore\"` for categorical data.\u001b[39;00m\n\u001b[1;32m   1504\u001b[0m \u001b[38;5;66;03m# TODO: remove the `na_action=\"ignore\"` when that default has been changed in\u001b[39;00m\n\u001b[1;32m   1505\u001b[0m \u001b[38;5;66;03m#  Categorical (GH51645).\u001b[39;00m\n\u001b[1;32m   1506\u001b[0m action \u001b[38;5;241m=\u001b[39m \u001b[38;5;124m\"\u001b[39m\u001b[38;5;124mignore\u001b[39m\u001b[38;5;124m\"\u001b[39m \u001b[38;5;28;01mif\u001b[39;00m \u001b[38;5;28misinstance\u001b[39m(obj\u001b[38;5;241m.\u001b[39mdtype, CategoricalDtype) \u001b[38;5;28;01melse\u001b[39;00m \u001b[38;5;28;01mNone\u001b[39;00m\n\u001b[0;32m-> 1507\u001b[0m mapped \u001b[38;5;241m=\u001b[39m \u001b[43mobj\u001b[49m\u001b[38;5;241;43m.\u001b[39;49m\u001b[43m_map_values\u001b[49m\u001b[43m(\u001b[49m\n\u001b[1;32m   1508\u001b[0m \u001b[43m    \u001b[49m\u001b[43mmapper\u001b[49m\u001b[38;5;241;43m=\u001b[39;49m\u001b[43mcurried\u001b[49m\u001b[43m,\u001b[49m\u001b[43m \u001b[49m\u001b[43mna_action\u001b[49m\u001b[38;5;241;43m=\u001b[39;49m\u001b[43maction\u001b[49m\u001b[43m,\u001b[49m\u001b[43m \u001b[49m\u001b[43mconvert\u001b[49m\u001b[38;5;241;43m=\u001b[39;49m\u001b[38;5;28;43mself\u001b[39;49m\u001b[38;5;241;43m.\u001b[39;49m\u001b[43mconvert_dtype\u001b[49m\n\u001b[1;32m   1509\u001b[0m \u001b[43m\u001b[49m\u001b[43m)\u001b[49m\n\u001b[1;32m   1511\u001b[0m \u001b[38;5;28;01mif\u001b[39;00m \u001b[38;5;28mlen\u001b[39m(mapped) \u001b[38;5;129;01mand\u001b[39;00m \u001b[38;5;28misinstance\u001b[39m(mapped[\u001b[38;5;241m0\u001b[39m], ABCSeries):\n\u001b[1;32m   1512\u001b[0m     \u001b[38;5;66;03m# GH#43986 Need to do list(mapped) in order to get treated as nested\u001b[39;00m\n\u001b[1;32m   1513\u001b[0m     \u001b[38;5;66;03m#  See also GH#25959 regarding EA support\u001b[39;00m\n\u001b[1;32m   1514\u001b[0m     \u001b[38;5;28;01mreturn\u001b[39;00m obj\u001b[38;5;241m.\u001b[39m_constructor_expanddim(\u001b[38;5;28mlist\u001b[39m(mapped), index\u001b[38;5;241m=\u001b[39mobj\u001b[38;5;241m.\u001b[39mindex)\n",
      "File \u001b[0;32m~/miniconda3/envs/LLM_Context_Effects/lib/python3.9/site-packages/pandas/core/base.py:921\u001b[0m, in \u001b[0;36mIndexOpsMixin._map_values\u001b[0;34m(self, mapper, na_action, convert)\u001b[0m\n\u001b[1;32m    918\u001b[0m \u001b[38;5;28;01mif\u001b[39;00m \u001b[38;5;28misinstance\u001b[39m(arr, ExtensionArray):\n\u001b[1;32m    919\u001b[0m     \u001b[38;5;28;01mreturn\u001b[39;00m arr\u001b[38;5;241m.\u001b[39mmap(mapper, na_action\u001b[38;5;241m=\u001b[39mna_action)\n\u001b[0;32m--> 921\u001b[0m \u001b[38;5;28;01mreturn\u001b[39;00m \u001b[43malgorithms\u001b[49m\u001b[38;5;241;43m.\u001b[39;49m\u001b[43mmap_array\u001b[49m\u001b[43m(\u001b[49m\u001b[43marr\u001b[49m\u001b[43m,\u001b[49m\u001b[43m \u001b[49m\u001b[43mmapper\u001b[49m\u001b[43m,\u001b[49m\u001b[43m \u001b[49m\u001b[43mna_action\u001b[49m\u001b[38;5;241;43m=\u001b[39;49m\u001b[43mna_action\u001b[49m\u001b[43m,\u001b[49m\u001b[43m \u001b[49m\u001b[43mconvert\u001b[49m\u001b[38;5;241;43m=\u001b[39;49m\u001b[43mconvert\u001b[49m\u001b[43m)\u001b[49m\n",
      "File \u001b[0;32m~/miniconda3/envs/LLM_Context_Effects/lib/python3.9/site-packages/pandas/core/algorithms.py:1743\u001b[0m, in \u001b[0;36mmap_array\u001b[0;34m(arr, mapper, na_action, convert)\u001b[0m\n\u001b[1;32m   1741\u001b[0m values \u001b[38;5;241m=\u001b[39m arr\u001b[38;5;241m.\u001b[39mastype(\u001b[38;5;28mobject\u001b[39m, copy\u001b[38;5;241m=\u001b[39m\u001b[38;5;28;01mFalse\u001b[39;00m)\n\u001b[1;32m   1742\u001b[0m \u001b[38;5;28;01mif\u001b[39;00m na_action \u001b[38;5;129;01mis\u001b[39;00m \u001b[38;5;28;01mNone\u001b[39;00m:\n\u001b[0;32m-> 1743\u001b[0m     \u001b[38;5;28;01mreturn\u001b[39;00m \u001b[43mlib\u001b[49m\u001b[38;5;241;43m.\u001b[39;49m\u001b[43mmap_infer\u001b[49m\u001b[43m(\u001b[49m\u001b[43mvalues\u001b[49m\u001b[43m,\u001b[49m\u001b[43m \u001b[49m\u001b[43mmapper\u001b[49m\u001b[43m,\u001b[49m\u001b[43m \u001b[49m\u001b[43mconvert\u001b[49m\u001b[38;5;241;43m=\u001b[39;49m\u001b[43mconvert\u001b[49m\u001b[43m)\u001b[49m\n\u001b[1;32m   1744\u001b[0m \u001b[38;5;28;01melse\u001b[39;00m:\n\u001b[1;32m   1745\u001b[0m     \u001b[38;5;28;01mreturn\u001b[39;00m lib\u001b[38;5;241m.\u001b[39mmap_infer_mask(\n\u001b[1;32m   1746\u001b[0m         values, mapper, mask\u001b[38;5;241m=\u001b[39misna(values)\u001b[38;5;241m.\u001b[39mview(np\u001b[38;5;241m.\u001b[39muint8), convert\u001b[38;5;241m=\u001b[39mconvert\n\u001b[1;32m   1747\u001b[0m     )\n",
      "File \u001b[0;32mlib.pyx:2972\u001b[0m, in \u001b[0;36mpandas._libs.lib.map_infer\u001b[0;34m()\u001b[0m\n",
      "Cell \u001b[0;32mIn[9], line 2\u001b[0m, in \u001b[0;36m<lambda>\u001b[0;34m(x)\u001b[0m\n\u001b[1;32m      1\u001b[0m df[\u001b[38;5;124m'\u001b[39m\u001b[38;5;124mprocessed_cot_reasoning_1\u001b[39m\u001b[38;5;124m'\u001b[39m] \u001b[38;5;241m=\u001b[39m df[\u001b[38;5;124m'\u001b[39m\u001b[38;5;124mprocessed_cot_reasoning_1\u001b[39m\u001b[38;5;124m'\u001b[39m]\u001b[38;5;241m.\u001b[39mapply(\u001b[38;5;28;01mlambda\u001b[39;00m x: ast\u001b[38;5;241m.\u001b[39mliteral_eval(x))\n\u001b[0;32m----> 2\u001b[0m df[\u001b[38;5;124m'\u001b[39m\u001b[38;5;124mprocessed_cot_reasoning_2\u001b[39m\u001b[38;5;124m'\u001b[39m] \u001b[38;5;241m=\u001b[39m df[\u001b[38;5;124m'\u001b[39m\u001b[38;5;124mprocessed_cot_reasoning_2\u001b[39m\u001b[38;5;124m'\u001b[39m]\u001b[38;5;241m.\u001b[39mapply(\u001b[38;5;28;01mlambda\u001b[39;00m x: \u001b[43mast\u001b[49m\u001b[38;5;241;43m.\u001b[39;49m\u001b[43mliteral_eval\u001b[49m\u001b[43m(\u001b[49m\u001b[43mx\u001b[49m\u001b[43m)\u001b[49m)\n",
      "File \u001b[0;32m~/miniconda3/envs/LLM_Context_Effects/lib/python3.9/ast.py:105\u001b[0m, in \u001b[0;36mliteral_eval\u001b[0;34m(node_or_string)\u001b[0m\n\u001b[1;32m    103\u001b[0m                 \u001b[38;5;28;01mreturn\u001b[39;00m left \u001b[38;5;241m-\u001b[39m right\n\u001b[1;32m    104\u001b[0m     \u001b[38;5;28;01mreturn\u001b[39;00m _convert_signed_num(node)\n\u001b[0;32m--> 105\u001b[0m \u001b[38;5;28;01mreturn\u001b[39;00m \u001b[43m_convert\u001b[49m\u001b[43m(\u001b[49m\u001b[43mnode_or_string\u001b[49m\u001b[43m)\u001b[49m\n",
      "File \u001b[0;32m~/miniconda3/envs/LLM_Context_Effects/lib/python3.9/ast.py:104\u001b[0m, in \u001b[0;36mliteral_eval.<locals>._convert\u001b[0;34m(node)\u001b[0m\n\u001b[1;32m    102\u001b[0m         \u001b[38;5;28;01melse\u001b[39;00m:\n\u001b[1;32m    103\u001b[0m             \u001b[38;5;28;01mreturn\u001b[39;00m left \u001b[38;5;241m-\u001b[39m right\n\u001b[0;32m--> 104\u001b[0m \u001b[38;5;28;01mreturn\u001b[39;00m \u001b[43m_convert_signed_num\u001b[49m\u001b[43m(\u001b[49m\u001b[43mnode\u001b[49m\u001b[43m)\u001b[49m\n",
      "File \u001b[0;32m~/miniconda3/envs/LLM_Context_Effects/lib/python3.9/ast.py:78\u001b[0m, in \u001b[0;36mliteral_eval.<locals>._convert_signed_num\u001b[0;34m(node)\u001b[0m\n\u001b[1;32m     76\u001b[0m     \u001b[38;5;28;01melse\u001b[39;00m:\n\u001b[1;32m     77\u001b[0m         \u001b[38;5;28;01mreturn\u001b[39;00m \u001b[38;5;241m-\u001b[39m operand\n\u001b[0;32m---> 78\u001b[0m \u001b[38;5;28;01mreturn\u001b[39;00m \u001b[43m_convert_num\u001b[49m\u001b[43m(\u001b[49m\u001b[43mnode\u001b[49m\u001b[43m)\u001b[49m\n",
      "File \u001b[0;32m~/miniconda3/envs/LLM_Context_Effects/lib/python3.9/ast.py:69\u001b[0m, in \u001b[0;36mliteral_eval.<locals>._convert_num\u001b[0;34m(node)\u001b[0m\n\u001b[1;32m     67\u001b[0m \u001b[38;5;28;01mdef\u001b[39;00m \u001b[38;5;21m_convert_num\u001b[39m(node):\n\u001b[1;32m     68\u001b[0m     \u001b[38;5;28;01mif\u001b[39;00m \u001b[38;5;129;01mnot\u001b[39;00m \u001b[38;5;28misinstance\u001b[39m(node, Constant) \u001b[38;5;129;01mor\u001b[39;00m \u001b[38;5;28mtype\u001b[39m(node\u001b[38;5;241m.\u001b[39mvalue) \u001b[38;5;129;01mnot\u001b[39;00m \u001b[38;5;129;01min\u001b[39;00m (\u001b[38;5;28mint\u001b[39m, \u001b[38;5;28mfloat\u001b[39m, \u001b[38;5;28mcomplex\u001b[39m):\n\u001b[0;32m---> 69\u001b[0m         \u001b[43m_raise_malformed_node\u001b[49m\u001b[43m(\u001b[49m\u001b[43mnode\u001b[49m\u001b[43m)\u001b[49m\n\u001b[1;32m     70\u001b[0m     \u001b[38;5;28;01mreturn\u001b[39;00m node\u001b[38;5;241m.\u001b[39mvalue\n",
      "File \u001b[0;32m~/miniconda3/envs/LLM_Context_Effects/lib/python3.9/ast.py:66\u001b[0m, in \u001b[0;36mliteral_eval.<locals>._raise_malformed_node\u001b[0;34m(node)\u001b[0m\n\u001b[1;32m     65\u001b[0m \u001b[38;5;28;01mdef\u001b[39;00m \u001b[38;5;21m_raise_malformed_node\u001b[39m(node):\n\u001b[0;32m---> 66\u001b[0m     \u001b[38;5;28;01mraise\u001b[39;00m \u001b[38;5;167;01mValueError\u001b[39;00m(\u001b[38;5;124mf\u001b[39m\u001b[38;5;124m'\u001b[39m\u001b[38;5;124mmalformed node or string: \u001b[39m\u001b[38;5;132;01m{\u001b[39;00mnode\u001b[38;5;132;01m!r}\u001b[39;00m\u001b[38;5;124m'\u001b[39m)\n",
      "\u001b[0;31mValueError\u001b[0m: malformed node or string: ['shared border', 'cultural exchange', 'historical ties', 'economic relationships', 'trade relationships', 'language', 'politics', 'culture', 'indigenous heritage', 'economic orientation', 'income inequality', 'crime rates', 'social issues']"
     ]
    }
   ],
   "source": [
    "df['processed_cot_reasoning_1'] = df['processed_cot_reasoning_1'].apply(lambda x: ast.literal_eval(x))\n",
    "df['processed_cot_reasoning_2'] = df['processed_cot_reasoning_2'].apply(lambda x: ast.literal_eval(x))"
   ]
  },
  {
   "cell_type": "code",
   "execution_count": 11,
   "metadata": {},
   "outputs": [
    {
     "name": "stdout",
     "output_type": "stream",
     "text": [
      "3089\n",
      "1222\n"
     ]
    },
    {
     "data": {
      "text/plain": [
       "['free market economy',\n",
       " 'public healthcare system',\n",
       " 'political turmoil and conflict',\n",
       " 'geographies',\n",
       " 'hierarchy of power',\n",
       " 'shared values and beliefs',\n",
       " 'geographical',\n",
       " 'legal structures',\n",
       " 'atheist ideology',\n",
       " 'having significant influence on global politics']"
      ]
     },
     "execution_count": 11,
     "metadata": {},
     "output_type": "execute_result"
    }
   ],
   "source": [
    "all_topics = list(df['processed_cot_reasoning_1']) + list(df['processed_cot_reasoning_2'])\n",
    "all_topics =  list(itertools.chain.from_iterable(all_topics))\n",
    "print(len(all_topics))\n",
    "set_of_topics = list(set(all_topics))\n",
    "print(len(set_of_topics))\n",
    "set_of_topics[:10]"
   ]
  },
  {
   "cell_type": "code",
   "execution_count": 16,
   "metadata": {},
   "outputs": [
    {
     "data": {
      "application/vnd.jupyter.widget-view+json": {
       "model_id": "5e0230f19fb14b2b873b0a1ca52a2d21",
       "version_major": 2,
       "version_minor": 0
      },
      "text/plain": [
       "modules.json:   0%|          | 0.00/349 [00:00<?, ?B/s]"
      ]
     },
     "metadata": {},
     "output_type": "display_data"
    },
    {
     "data": {
      "application/vnd.jupyter.widget-view+json": {
       "model_id": "db1b6c875e1141fd9ac5fb84fc822b41",
       "version_major": 2,
       "version_minor": 0
      },
      "text/plain": [
       "config_sentence_transformers.json:   0%|          | 0.00/116 [00:00<?, ?B/s]"
      ]
     },
     "metadata": {},
     "output_type": "display_data"
    },
    {
     "data": {
      "application/vnd.jupyter.widget-view+json": {
       "model_id": "3f4dd979e02b4f76849c7a216ac2522b",
       "version_major": 2,
       "version_minor": 0
      },
      "text/plain": [
       "README.md:   0%|          | 0.00/10.6k [00:00<?, ?B/s]"
      ]
     },
     "metadata": {},
     "output_type": "display_data"
    },
    {
     "data": {
      "application/vnd.jupyter.widget-view+json": {
       "model_id": "d99c0d135f63432fb4962e4765329b89",
       "version_major": 2,
       "version_minor": 0
      },
      "text/plain": [
       "sentence_bert_config.json:   0%|          | 0.00/53.0 [00:00<?, ?B/s]"
      ]
     },
     "metadata": {},
     "output_type": "display_data"
    },
    {
     "name": "stderr",
     "output_type": "stream",
     "text": [
      "/home/ccaesup/miniconda3/envs/LLM_Context_Effects/lib/python3.9/site-packages/huggingface_hub/file_download.py:1132: FutureWarning: `resume_download` is deprecated and will be removed in version 1.0.0. Downloads always resume when possible. If you want to force a new download, use `force_download=True`.\n",
      "  warnings.warn(\n"
     ]
    },
    {
     "data": {
      "application/vnd.jupyter.widget-view+json": {
       "model_id": "de7dc0c282074826aa18aa927a304fa4",
       "version_major": 2,
       "version_minor": 0
      },
      "text/plain": [
       "config.json:   0%|          | 0.00/571 [00:00<?, ?B/s]"
      ]
     },
     "metadata": {},
     "output_type": "display_data"
    },
    {
     "data": {
      "application/vnd.jupyter.widget-view+json": {
       "model_id": "96d0c88fc99f43ed897e617f389a8c67",
       "version_major": 2,
       "version_minor": 0
      },
      "text/plain": [
       "model.safetensors:   0%|          | 0.00/438M [00:00<?, ?B/s]"
      ]
     },
     "metadata": {},
     "output_type": "display_data"
    },
    {
     "data": {
      "application/vnd.jupyter.widget-view+json": {
       "model_id": "f197a36754a84ec0a4e690623601edde",
       "version_major": 2,
       "version_minor": 0
      },
      "text/plain": [
       "tokenizer_config.json:   0%|          | 0.00/363 [00:00<?, ?B/s]"
      ]
     },
     "metadata": {},
     "output_type": "display_data"
    },
    {
     "data": {
      "application/vnd.jupyter.widget-view+json": {
       "model_id": "394efd47f2b746e9904725d7a7d9eeb3",
       "version_major": 2,
       "version_minor": 0
      },
      "text/plain": [
       "vocab.txt:   0%|          | 0.00/232k [00:00<?, ?B/s]"
      ]
     },
     "metadata": {},
     "output_type": "display_data"
    },
    {
     "data": {
      "application/vnd.jupyter.widget-view+json": {
       "model_id": "df13bd7d64b94858adc5ea7ded417d7a",
       "version_major": 2,
       "version_minor": 0
      },
      "text/plain": [
       "tokenizer.json:   0%|          | 0.00/466k [00:00<?, ?B/s]"
      ]
     },
     "metadata": {},
     "output_type": "display_data"
    },
    {
     "data": {
      "application/vnd.jupyter.widget-view+json": {
       "model_id": "f7dd286509494423aa9f8884d79c1426",
       "version_major": 2,
       "version_minor": 0
      },
      "text/plain": [
       "special_tokens_map.json:   0%|          | 0.00/239 [00:00<?, ?B/s]"
      ]
     },
     "metadata": {},
     "output_type": "display_data"
    },
    {
     "data": {
      "application/vnd.jupyter.widget-view+json": {
       "model_id": "dbf6e5c4b4ae4b769926d62ac8d834fb",
       "version_major": 2,
       "version_minor": 0
      },
      "text/plain": [
       "1_Pooling/config.json:   0%|          | 0.00/190 [00:00<?, ?B/s]"
      ]
     },
     "metadata": {},
     "output_type": "display_data"
    }
   ],
   "source": [
    "\n",
    "\n",
    "# Combine the two columns into a single list of topics\n",
    "\n",
    "# Load pre-trained Sentence-BERT model\n",
    "model_name = 'all-mpnet-base-v2'\n",
    "model = SentenceTransformer(model_name)\n",
    "\n",
    "# Function to get embeddings\n",
    "def get_embeddings(text_list):\n",
    "    return model.encode(text_list)\n",
    "\n",
    "# Get embeddings for all topics\n",
    "embeddings = get_embeddings(set_of_topics)\n",
    "\n",
    "# Use HDBSCAN to cluster topics\n",
    "clusterer = hdbscan.HDBSCAN(min_cluster_size=6, min_samples=1)\n",
    "labels = clusterer.fit_predict(embeddings)\n",
    "\n",
    "# Create a DataFrame to map topics to their cluster labels\n",
    "# topics_df = pd.DataFrame({'topic': set_of_topics, 'label': labels})\n",
    "\n",
    "# # Separate the labels back into the original columns\n",
    "# labels_column1 = topics_df.iloc[:len(df), :]['label'].values\n",
    "# labels_column2 = topics_df.iloc[len(df):, :]['label'].values\n",
    "\n",
    "# # Add the labels as new columns to the original DataFrame\n",
    "# df['label_column1'] = labels_column1\n",
    "# df['label_column2'] = labels_column2\n",
    "\n",
    "# # Print the updated DataFrame\n",
    "# print(df)\n"
   ]
  },
  {
   "cell_type": "code",
   "execution_count": 17,
   "metadata": {},
   "outputs": [
    {
     "name": "stdout",
     "output_type": "stream",
     "text": [
      "Cluster 23: ['free market economy', 'economy', 'market economy', 'market-based economies', 'economic', 'economies', 'market-based economy']\n",
      "Cluster 0: ['public healthcare system', 'healthcare system', 'healthcare', 'universal healthcare', 'approach to healthcare', 'universal healthcare system', 'healthcare policies', 'healthcare systems', 'different healthcare systems']\n",
      "Cluster 26: ['political turmoil and conflict', 'tensions and conflicts', 'political instability and conflict', 'political upheaval', 'political instability', 'stability of government', 'conflict and instability', 'political stability', 'political changes']\n",
      "Cluster 41: ['having significant influence on global politics', 'role in global politics', 'role in international affairs', 'influence in global affairs', 'impact on global politics', 'presence in global affairs', 'international influence', 'extent of international involvement', 'role as a global superpower', 'international diplomacy', 'roles in global politics and international relations', 'role in international politics', 'global superpower status', 'international relations', 'global superpower', 'international involvement', 'influence on global politics', 'being influential global powers', 'emphasis on international diplomacy', 'limited international influence', 'being major world powers', 'roles in international relations', 'superpower status', 'role on the global stage', 'diplomacy', 'involvement in global politics', 'global influence', 'major world powers', 'involvement in international politics']\n",
      "Cluster 22: ['colonization by European powers', 'Eastern European influence', 'experience of British colonial rule', 'foreign influences', 'shared history of British colonialism', 'history of colonialism and imperialism', 'Western influences', 'influence of European cultures', 'colonial history', 'shared history of French colonialism', 'history of colonization', 'American influence', 'influence of European colonization', 'common colonial history', 'shared history of colonialism', 'European influence', 'history of colonialism', 'shared British colonial legacy', 'colonization history', 'shared history of colonization and independence', 'history of Spanish colonization', 'shared history as British colonies', 'Historical influences', 'experience of colonialism', 'British colonial history', 'influences from European history', 'colonial past']\n",
      "Cluster 5: ['collective ownership', 'ownership of enterprises', 'state ownership of the means of production', 'collective ownership of the means of production', 'state ownership of means of production', 'ownership of industry']\n",
      "Cluster 16: ['centralization of government', 'strong central government', 'centrally planned economy', 'centralized planned economy', 'strong centralized government', 'strong centralized governments', 'centralized control over their economies', 'strong central governments', 'decentralization of government', 'centralization of economy', 'decentralized government', 'planned economy', 'centralized government', 'central government']\n",
      "Cluster 45: ['democratic form of government', 'democratic governance', 'democratic institutions', 'democratic government', 'democratic nations', 'democratic governments', 'democratic countries', 'state governance', 'governance']\n",
      "Cluster 37: ['population diversity', 'diversity in cultures', 'multicultural and diverse', 'ethnicities', 'unique culture', 'diversity of culture', 'Ethnic diversity', 'diverse societies', 'diverse traditions', 'composition of nationalities', 'diverse ethnic groups', 'diversity in languages', 'melting pot culture', 'ethnic diversity', 'ethnic groups and languages', 'diverse cultures', 'culture', 'diversity', 'ethnic composition', 'diverse populations', 'distinct cultures', 'society homogeneity', 'diversity in ethnicities', 'cultures', 'mix of religious and ethnic groups', 'mix of cultures', 'societal homogeneity', 'mix of ethnicities and cultures', 'population language diversity', 'diversity of society', 'ethnic groups', 'cultural diversity', 'unique cultures', 'mix of religious and secular populations', 'diversity of population', 'cultures and religions', 'ethnic and linguistic diversity', 'melting pot of cultures', 'cultural', 'diverse population', 'diverse culture', 'representation of many ethnic and religious groups']\n",
      "Cluster 18: ['similar languages', 'language similarities', 'linguistic', 'language', 'common languages', 'different languages', 'linguistic background', 'language and linguistic differences', 'linguistic ties', 'languages', 'similar language', 'common language', 'linguistic similarities', 'linguistic differences', 'multilingualism', 'language differences', 'unique language', 'unique multilingualism', 'multilingual']\n",
      "Cluster 31: ['cooperation in defense', 'significant military and economic influence', 'military capabilities', 'strong military', 'military strength', 'military cooperation', 'strong alliances with other Western countries', 'significant military capabilities', 'military power', 'significant economic and military capabilities', 'cooperation on security issues', 'military alliance', 'strong militaries', 'strong military alliances']\n",
      "Cluster 7: ['technology industry', 'manufacturing industry', 'service sector', 'manufacturing sectors', 'automotive and engineering sectors', 'strong service sector', 'service-based economy', 'focus on manufacturing', 'size of service sector', 'reliance on manufacturing', 'high-tech industries']\n",
      "Cluster 30: ['cooperation on economic issues', 'cooperation on regional and international issues', 'cooperation on political issues', 'tradition of international cooperation', 'economic cooperation', 'cooperation on international issues', 'cooperation in international affairs', 'cooperation on various issues']\n",
      "Cluster 40: ['diplomatic relationship', 'cultural exchange', 'history of trade and cultural exchange', 'diplomatic relations', 'history of bilateral trade', 'diplomatic ties', 'history of trade and diplomatic relations', 'history of trade', 'history of cultural exchange', 'history of economic interaction', 'cultural exchanges', 'history of economic exchange', 'history of diplomatic relations', 'trade and cultural exchanges']\n",
      "Cluster 14: ['economic development', 'strong economies', 'economic strength', 'economic growth', 'current economic development', 'focus on economic development', 'levels of social and economic development', 'recent economic development', 'strength of economy', 'strength of economies', 'growing economy', 'industrialization', 'strong economy', 'development of economy', 'level of industrialization', 'levels of economic development', 'focus of economy', 'cultural and economic development']\n",
      "Cluster 17: ['population size', 'size of the country', 'geographical size', 'geographical features', 'size of populations', 'geographical characteristics', 'country size', 'size and geographical features', 'size and population', 'geographical landscapes', 'geographical sizes and locations', 'smaller country', 'population demographics', 'landscapes', 'landscape', 'population', 'populations', 'size of population']\n",
      "Cluster 9: ['share a border', 'border control', 'shared border', 'shared borders', 'international border', 'land border', 'immigration issues', 'sharing a border', 'common border', 'immigration and border security', 'common borders', 'border sharing', 'border proximity', 'share a long border', 'maritime border', 'border']\n",
      "Cluster 12: ['authoritarianism', 'history of authoritarian leadership', 'authoritarian political systems', 'authoritarian rule', 'authoritarian regime', 'authoritarian state', 'authoritarian governance styles', 'history of authoritarian rule']\n",
      "Cluster 21: ['cultural impact', 'religious influence', 'impact on culture and society', 'cultural influence', 'impact on social structures', 'cultural influences', 'religious influences']\n",
      "Cluster 29: ['strong cultural heritage', 'European heritage', 'rich cultural heritage', 'cultural heritages', 'cultural heritage', 'archaeological heritage', 'heritage']\n",
      "Cluster 24: ['approach to social welfare and economic policies', 'social welfare', 'approach to social welfare', 'emphasis on social welfare', 'social safety net', 'emphasis on social welfare programs', 'social welfare system', 'comprehensive welfare system', 'varying approaches to social welfare policies']\n",
      "Cluster 4: ['focus on innovation and technology', 'technological innovation', 'focus on innovation', 'technology', 'innovation', 'technological capabilities', 'focus on technology', 'value on innovation', 'focus on engineering', 'technological advancement', 'technological advancements', 'emphasis on innovation']\n",
      "Cluster 42: ['relationships with the international community', 'international relationships', 'engagement with international community', 'relationships with neighboring countries', 'relationships with other countries', 'engagement with the global community', 'being neighboring countries', 'willingness to engage with the international community', 'limited engagement with the global community', 'relationship between the countries']\n",
      "Cluster 32: ['cultural background', 'cultural aspects', 'cultural contexts', 'cultural characteristics', 'cultural backgrounds', 'cultural context']\n",
      "Cluster 28: ['communist ideology', 'shared history of communist rule', 'communist ideologies', 'history of communist ideology', 'socialist ideologies', 'ideology', 'social policies', 'political ideology', 'communist governments', 'communist ideology and political system', 'economic ideologies', 'political ideologies', 'communist state', 'communist influence', 'communist past', 'History of communist rule', 'periods of communist rule', 'ideologies', 'capitalist and communist ideologies', 'communist rule', 'communist history', 'socialist policies']\n",
      "Cluster 6: ['history of arts', 'history of art', 'contributions to art', 'contributions to music', 'tradition of art', 'influences from art', 'art']\n",
      "Cluster 19: ['values of individual freedom', 'tradition of democracy', 'individualistic culture', 'human rights', 'collectivist society', 'tradition of democracy and individual freedoms', 'tradition of democracy and human rights', 'democratic tradition', 'commitment to individual freedoms', 'emphasis on individual freedom', 'political freedom', 'individual freedoms', 'values individual freedoms and rights', 'respect for human rights', 'collectivist culture', 'freedom', 'individual rights and freedoms', 'commitment to democratic values', 'emphasis on personal freedom', 'emphasis on human rights and individual freedoms', 'emphasis on individualism', 'emphasis on human rights', 'emphasis on individual rights and freedoms', 'commitment to human rights and individual freedoms', 'emphasis on individual freedoms', 'commitment to human rights', 'commitment to democratic principles', 'emphasis on individual freedoms and human rights', 'limited political freedoms', 'values of human rights', 'focus on individual rights', 'tradition of individualism', 'democratic values', 'human rights and freedoms', 'belief in individual freedom', 'tradition of individual rights and freedoms', 'liberal values']\n",
      "Cluster 8: ['membership in the EU and the Eurozone', 'members of the European Union', 'membership of the Schengen Area', 'membership in the United Nations', 'membership of NATO and the European Union', 'membership in the Eurozone', 'membership in the Commonwealth of Nations', 'membership of the European Union', 'aspiration to join the European Union', 'membership in NATO', 'membership in the European Union']\n",
      "Cluster 25: ['history of conflict', 'unique political and security situation', 'periods of conflict and war', 'geopolitical challenges', 'history of conflict with neighboring countries', 'conflicts with neighboring countries', 'ongoing conflicts with neighboring countries', 'geopolitical situation', 'geopolitical contexts']\n",
      "Cluster 38: ['similar economic systems', 'similar political systems', 'similar federal system of government', 'similar economies', 'similar democratic systems', 'similar democratic systems of government', 'Economic similarity', 'similar political system', 'economic similarities', 'similar economic and political systems']\n",
      "Cluster 11: ['commitment to combating terrorism', 'focus on defense and security', 'commitment to national security', 'emphasis on national security and defense', 'national security strategies', 'emphasis on national defense', 'belief in the importance of national security']\n",
      "Cluster 44: ['economic system', 'system of government', 'political system differences', 'political systems', 'government systems', 'democratic systems', 'economic systems', 'Economic systems', 'systems of government', 'political and economic systems', 'democratic systems of government', 'political system', 'different political systems and institutions']\n",
      "Cluster 36: ['societal norms', 'tradition', 'traditional practices', 'Catholic tradition', 'cultural traditions and customs', 'traditions', 'social norms', 'traditions and customs', 'social customs', 'cultural traditions', 'mix of traditional and modern practices', 'cultural practices', 'religious traditions', 'religious practices', 'similar social norms', 'customs and traditions', 'cultural practices and traditions', 'cultural norms']\n",
      "Cluster 35: ['trade ties', 'trade agreements', 'trade relations', 'trade relationship', 'trade and commerce', 'trade relationships']\n",
      "Cluster 2: ['emphasis on science', 'investment in education and research', 'emphasis on science, technology, engineering, and mathematics (STEM)', 'emphasis on education', 'research institutions', 'emphasis on public education', 'research', 'scientific research', 'emphasis on education and culture', 'emphasis on education and research', 'universities and research institutions']\n",
      "Cluster 13: ['geographical proximity', 'similar landscapes', 'geographical similarities', 'geographic similarities', 'geographic proximity', 'similar cultural landscape']\n",
      "Cluster 15: ['controlled economy', 'state economy', 'state-controlled economy', 'economic control', 'role of the state in the economy', 'state control over the economy and society', 'emphasis on government control over the economy and society']\n",
      "Cluster 34: ['cultural identity', 'national identities', 'cultural and religious identity', 'sense of national identity and pride', 'national identity', 'cultural identities', 'sense of national identity', 'separate national identities', 'religious component to identity', 'distinct national identities']\n",
      "Cluster 33: ['similar culinary traditions', 'similar cuisine', 'similar folk customs', 'similar traditions', 'cuisine', 'cuisines', 'similar cuisines', 'diverse range of cuisines', 'similar customs']\n",
      "Cluster 27: ['one-party states', 'single party or coalition rule', 'single ruling party', 'one-party system', 'one-party government', 'one-party state', 'having a one-party system', 'single-party rule', 'multi-party system', 'one-party political system']\n",
      "Cluster 43: ['past political structures', 'governance structures', 'past political rule', 'federal structure', 'political structure', 'past political structure', 'political structures', 'governance structure', 'government structure']\n",
      "Cluster 39: ['economic relationships', 'strong economic ties', 'cultural ties', 'history of cultural interaction', 'economic ties', 'economic relationship', 'cultural and historical ties', 'economic relations', 'history of cultural and economic ties with other nations', 'history of cultural ties', 'history of economic ties', 'cultural connections']\n",
      "Cluster 20: ['international alliances', 'historical alliances', 'alliances', 'alliance history', 'political alliances', 'history of economic and military cooperation', 'alliances and conflicts']\n",
      "Cluster 1: ['autonomy', 'degree of regional autonomy', 'island nations', 'division of powers between the national and state/provincial levels', 'independence movements', 'independence', 'level of independence and autonomy', 'independent country', 'history of movements', 'sense of independence']\n",
      "Cluster 10: ['secularity', 'secular republic', 'secular nature', 'secular society', 'secular state', 'secularism', 'tradition of secularism and laïcité']\n",
      "Cluster 3: ['modern infrastructure', 'architectural styles', 'similar architectural styles', 'infrastructure', 'architectural similarities', 'infrastructure development', 'architecture']\n"
     ]
    }
   ],
   "source": [
    "# Map topics to clusters\n",
    "clustered_topics = {}\n",
    "for label, topic in zip(labels, set_of_topics):\n",
    "    if label not in clustered_topics:\n",
    "        clustered_topics[label] = []\n",
    "    clustered_topics[label].append(topic)\n",
    "\n",
    "# Print the clustered topics\n",
    "for cluster, topics in clustered_topics.items():\n",
    "    if cluster == -1:\n",
    "        continue\n",
    "    print(f\"Cluster {cluster}: {topics}\")"
   ]
  },
  {
   "cell_type": "code",
   "execution_count": 4,
   "metadata": {},
   "outputs": [
    {
     "name": "stdout",
     "output_type": "stream",
     "text": [
      "Cluster 0: part of the Holy Roman Empire, part of the Austro-Hungarian Empire\n",
      "Cluster 1: part of the British Isles, part of the United Kingdom\n",
      "Cluster 2: sports, horse racing, rugby\n",
      "Cluster 3: challenges such as drug cartel violence, drug trafficking\n",
      "Cluster 4: relationship complexity, relationship duration\n",
      "Cluster 5: existence period, state existence period\n",
      "Cluster 6: history of Confucianism, history of being influenced by Confucianism\n",
      "Cluster 7: high standards of living, standards of living, standard of living, high standard of living\n",
      "Cluster 8: gun control laws, attitudes towards issues such as gun control, gun control policies, gun laws\n",
      "Cluster 9: labor laws, labor unions, part of the same economic union\n",
      "Cluster 10: membership in G7, membership in G7 and OECD, membership in the OECD, membership in the G7 and the OECD\n",
      "Cluster 11: legal and illegal flows of people, legal and illegal flows of services, legal and illegal flows of goods\n",
      "Cluster 12: mix of urban and rural areas, urban and rural areas\n",
      "Cluster 13: infrastructure, infrastructure development, modern infrastructure\n",
      "Cluster 14: history of imperial dynasties, imperial dynasties\n",
      "Cluster 15: regional power status, division of powers between the national and state/provincial levels\n",
      "Cluster 16: size, small size\n",
      "Cluster 17: currencies, currency\n",
      "Cluster 18: focus on domestic affairs, domestic issues, ongoing issues\n",
      "Cluster 19: natural environment, natural resource base, natural resources, exports of natural resources\n",
      "Cluster 20: legal systems, legal structures, legal system\n",
      "Cluster 21: president or chancellor as head of state and government, history of monarchy, monarch as head of state, constitutional monarchy, constitutional monarchies\n",
      "Cluster 22: mountainous interiors, mountains\n",
      "Cluster 23: architecture, architectural styles, architectural similarities, similar architectural styles\n",
      "Cluster 24: scientific research, research\n",
      "Cluster 25: research institutions, universities and research institutions\n",
      "Cluster 26: famous composers, notable philosophers, writers, and artists\n",
      "Cluster 27: entrepreneurship, entrepreneurial spirit, tradition of innovation and entrepreneurship\n",
      "Cluster 28: isolation, isolationism, history of isolationism, periods of isolation, isolation level\n",
      "Cluster 29: international sanctions due to nuclear weapons programs, economic sanctions, sanctions and isolation, international sanctions\n",
      "Cluster 30: nuclear weapons program, nuclear program, use of nuclear weapons\n",
      "Cluster 31: vocabulary overlap, shared vocabulary\n",
      "Cluster 32: multinational states, multinational state\n",
      "Cluster 33: history of movements, movement of people\n",
      "Cluster 34: shared values, shared values and beliefs\n",
      "Cluster 35: values, common values and institutions, common values, similar values\n",
      "Cluster 36: strong industrial base, industrial base\n",
      "Cluster 37: education level of population, levels of education\n",
      "Cluster 38: alignment against the United States, relationship with the United States, international alignments\n",
      "Cluster 39: contributions to science, contributions to science, technology, and culture, contributions to culture, science, and technology, emphasis on science\n",
      "Cluster 40: investment in education and research, emphasis on public education, tradition of education and research, emphasis on education, emphasis on education and culture, value on education, emphasis on education and research, education policies\n",
      "Cluster 41: education systems, education system\n",
      "Cluster 42: economic aid, funding of militaries, military aid\n",
      "Cluster 43: service sector, size of service sector, strong service sector\n",
      "Cluster 44: healthcare, public healthcare system, healthcare systems, different healthcare systems, healthcare system\n",
      "Cluster 45: universal healthcare system, universal healthcare\n",
      "Cluster 46: coastal regions, coastal areas\n",
      "Cluster 47: industrialization, level of industrialization\n",
      "Cluster 48: collectivist society, collectivist culture\n",
      "Cluster 49: relationship with diaspora communities, significant immigrant communities, immigrant communities\n",
      "Cluster 50: number of refugees and immigrants, immigrant population\n",
      "Cluster 51: national identity, sense of national identity and pride, national identities, influence of history on national identity, distinct national identities, sense of national identity, separate national identities\n",
      "Cluster 52: distinct identity, distinct identities, unique identities\n",
      "Cluster 53: membership in the Eurozone, membership in the EU and the Eurozone\n",
      "Cluster 54: social issues, approaches to social issues\n",
      "Cluster 55: membership in NATO, membership of NATO and the European Union\n",
      "Cluster 56: membership of the European Union, members of the European Union, membership in the European Union\n",
      "Cluster 57: security threats, security challenges, security concerns\n",
      "Cluster 58: openness of society, open society\n",
      "Cluster 59: immigration issues, immigration and border security, attitudes towards immigration\n",
      "Cluster 60: contributions to music, music\n",
      "Cluster 61: tradition of classical music, classical music, heritage of classical music and literature\n",
      "Cluster 62: independence, sense of independence, independent country, independence movements, year of independence\n",
      "Cluster 63: level of independence and autonomy, autonomy\n",
      "Cluster 64: share strategic interests in the Middle East, strategic interests\n",
      "Cluster 65: family values, emphasis on family\n",
      "Cluster 66: branches of power, separation of powers between the legislative, executive, and judicial branches\n",
      "Cluster 67: Cold War, ideologies during the Cold War, influence on politics during the Cold War\n",
      "Cluster 68: establishment period, founding principles, founding history, establishment dates, establishment history\n",
      "Cluster 69: history of revolutions, revolutionary history\n",
      "Cluster 70: Mediterranean coastline, influence by the Mediterranean region, Mediterranean climates\n",
      "Cluster 71: leadership, leadership in their respective regions, power of leader\n",
      "Cluster 72: tradition of literature, literary tradition\n",
      "Cluster 73: contributions to literature, literature\n",
      "Cluster 74: geopolitical challenges, geopolitical positioning, geopolitical situation, geopolitical contexts\n",
      "Cluster 75: ownership of enterprises, ownership of industry\n",
      "Cluster 76: national security strategies, belief in the importance of national security, emphasis on national security and defense, emphasis on national defense, commitment to national security, commitment to combating terrorism, focus on defense and security\n",
      "Cluster 77: Spanish influence, significant Spanish and American influence\n",
      "Cluster 78: state of war, military state\n",
      "Cluster 79: secular society, secularism, secular nature, secularity\n",
      "Cluster 80: secular republic, secular state\n",
      "Cluster 81: reliance on tourism, focus on tourism, tourism exchange, tourism\n",
      "Cluster 82: similar climates, similar climate\n",
      "Cluster 83: climatic influences, climate\n",
      "Cluster 84: melting pot culture, melting pot of cultures\n",
      "Cluster 85: Arabic heritage, Arab and Berber heritage\n",
      "Cluster 86: societal homogeneity, society homogeneity\n",
      "Cluster 87: levels of development, level of development, differences in development\n",
      "Cluster 88: priority of collective interests over individual rights, prioritization of collective interests over individual rights, prioritizes collective interests over individual rights\n",
      "Cluster 89: land area, area\n",
      "Cluster 90: history of art, history of arts, tradition of art\n",
      "Cluster 91: contributions to art, appreciation for the arts, art, influences from art\n",
      "Cluster 92: Islamic cultural influence, tradition of Islamic culture\n",
      "Cluster 93: transition from communism to democracy, transition from communist to post-communist societies\n",
      "Cluster 94: family ties, family connections\n",
      "Cluster 95: tradition of individualism, individualistic culture, emphasis on individualism\n",
      "Cluster 96: territory size, size of territory\n",
      "Cluster 97: vast territories, vast territory\n",
      "Cluster 98: historical association with the Soviet bloc, historical experiences under Soviet rule\n",
      "Cluster 99: position within the Soviet sphere of influence, Soviet domination\n",
      "Cluster 100: state ownership of means of production, state-owned enterprises, collective ownership of the means of production, collective ownership, state ownership of the means of production\n",
      "Cluster 101: tradition of religious freedom, freedom of religion\n",
      "Cluster 102: power, military strength, strong militaries, strong military, military power\n",
      "Cluster 103: reliance on manufacturing, manufacturing sectors, technology industry, technology, high-tech industries, focus on manufacturing, manufacturing industry\n",
      "Cluster 104: predominant religions, majority religion, dominant religions\n",
      "Cluster 105: atheist ideology, officially atheist\n",
      "Cluster 106: technological advancements, technological advancement\n",
      "Cluster 107: innovation, technological innovation, emphasis on innovation\n",
      "Cluster 108: focus on innovation and technology, focus on innovation\n",
      "Cluster 109: national sovereignty and security, state sovereignty\n",
      "Cluster 110: economic structure, economic structures\n",
      "Cluster 111: social policies, social welfare system, approach to social welfare, varying approaches to social welfare policies, comprehensive welfare system, strength of welfare state, social welfare, emphasis on social welfare, approach to social welfare and economic policies, emphasis on social welfare programs\n",
      "Cluster 112: political turmoil and conflict, tensions and conflicts, political stability, conflict and instability, stability of government, political instability and conflict, political instability\n",
      "Cluster 113: official language, official languages\n",
      "Cluster 114: decentralization of government, decentralized government\n",
      "Cluster 115: centrally planned economy, planned economy, socialist state with a planned economy, centralized planned economy\n",
      "Cluster 116: approaches to society, approach to society\n",
      "Cluster 117: strong central government, strong central governments\n",
      "Cluster 118: strong centralized governments, strong centralized government\n",
      "Cluster 119: being Western countries, being part of the Western world, being Western nations\n",
      "Cluster 120: tradition of rule of law, values of rule of law, rule of law\n",
      "Cluster 121: geographical proximity, geographic proximity\n",
      "Cluster 122: respect for elders, tradition of respect for elders\n",
      "Cluster 123: single-party rule, single party or coalition rule\n",
      "Cluster 124: involvement in conflicts with neighbors, conflicts with neighbors\n",
      "Cluster 125: share a long border, border sharing, sharing a border, shared border, share a border, shared borders\n",
      "Cluster 126: economic status, global economic status, wealth status\n",
      "Cluster 127: one-party political system, having a one-party system, one-party system, multi-party system, one-party government\n",
      "Cluster 128: one-party states, one-party state\n",
      "Cluster 129: border, land border\n",
      "Cluster 130: common borders, common border\n",
      "Cluster 131: military conflicts, involvement in regional conflicts, involvement in conflicts, involvement in conflicts and wars\n",
      "Cluster 132: developed country, developing country\n",
      "Cluster 133: societal structures, social structure, past social structures, social structures, social hierarchy, impact on social structures\n",
      "Cluster 134: shared British colonial legacy, shared history of British colonialism, history of colonialism and imperialism, history of colonialism, shared history as British colonies, colonial history, experience of British colonial rule, experience of colonialism, colonial past, shared history of colonialism, British colonial history, common colonial history\n",
      "Cluster 135: colonization history, shared history of colonization and independence, history of colonization\n",
      "Cluster 136: influence of European colonization, colonization by European powers\n",
      "Cluster 137: religious differences, religious similarities\n",
      "Cluster 138: commitment to democratic values, commitment to democratic principles, democratic values\n",
      "Cluster 139: religions, religious beliefs, religion\n",
      "Cluster 140: civil societies, society, societies, tradition of civil society\n",
      "Cluster 141: significant economic and military capabilities, military development, significant military and economic influence, significant military capabilities, military capabilities\n",
      "Cluster 142: emphasis on government control over the economy and society, state-controlled economy, controlled economy, state economy, role of the state in the economy, economic control, state control over the economy and society\n",
      "Cluster 143: political, politics, national politics\n",
      "Cluster 144: linguistic, linguistic background\n",
      "Cluster 145: administrative systems, administrative structures\n",
      "Cluster 146: unique multilingualism, multilingual, multilingualism\n",
      "Cluster 147: common languages, common language\n",
      "Cluster 148: language and linguistic differences, language differences, linguistic differences\n",
      "Cluster 149: different languages, languages, language\n",
      "Cluster 150: language similarities, linguistic similarities\n",
      "Cluster 151: similar languages, similar language\n",
      "Cluster 152: homogeneous population, relatively homogeneous population\n",
      "Cluster 153: similar cuisines, similar cuisine\n",
      "Cluster 154: cuisine, cuisines\n",
      "Cluster 155: diversity of economy, diverse economy, economic diversity\n",
      "Cluster 156: cooperation in defense, military cooperation\n",
      "Cluster 157: international alliances, responses and alliances, strong alliances with other Western countries, alliances, strong alliance, historical alliances, alliances and conflicts, political alliances, alliance history\n",
      "Cluster 158: military alliance, strong military alliances\n",
      "Cluster 159: country size, size of the country\n",
      "Cluster 160: authoritarian rule, authoritarian governance styles, authoritarian regime, history of authoritarian leadership, authoritarian state, history of authoritarian rule, authoritarianism, authoritarian political systems\n",
      "Cluster 161: geographical characteristics, geographical features\n",
      "Cluster 162: size and geographical features, geographical sizes and locations, geographical size\n",
      "Cluster 163: religious influence, religious influences\n",
      "Cluster 164: strategic geographic locations, strategic location\n",
      "Cluster 165: geography, geographical\n",
      "Cluster 166: Geographical location, geographic location, geographical location, geographical locations\n",
      "Cluster 167: membership in global organizations, being members of various international organizations, membership in international organizations, participation in international organizations\n",
      "Cluster 168: cultural characteristics, cultural aspects, shared cultural aspects\n",
      "Cluster 169: heritage of Buddhism, Buddhist heritage\n",
      "Cluster 170: foreign policies, economic policies, foreign policy, Western-oriented foreign policy\n",
      "Cluster 171: social norms, societal norms, similar social norms, cultural norms\n",
      "Cluster 172: global role, role on the global stage\n",
      "Cluster 173: cultural and religious identity, cultural identities, religious component to identity, cultural identity\n",
      "Cluster 174: predominantly Muslim population, predominantly Christian population, Muslim population\n",
      "Cluster 175: religious demographics, representation of many ethnic and religious groups, mix of religious and ethnic groups, mix of religious and secular populations\n",
      "Cluster 176: populations, size and population, size of population, population size, size of populations, population\n",
      "Cluster 177: cooperation on regional and international issues, cooperation on international issues, cooperation in international affairs\n",
      "Cluster 178: cooperation on security issues, cooperation on political issues, economic cooperation, cooperation on various issues, cooperation on economic issues\n",
      "Cluster 179: heritage of indigenous cultures, indigenous influences, indigenous heritage, indigenous cultures\n",
      "Cluster 180: growing economy, economic growth\n",
      "Cluster 181: Asian influence, Asian influences\n",
      "Cluster 182: cultural histories, having rich histories and cultures\n",
      "Cluster 183: geographic similarities, geographical similarities\n",
      "Cluster 184: historical context, historical contexts\n",
      "Cluster 185: historical events, histories, long history, history, historical\n",
      "Cluster 186: historical background, historical backgrounds\n",
      "Cluster 187: communist state, communist governments, being communist countries\n",
      "Cluster 188: Political similarity, historical similarities, political similarities\n",
      "Cluster 189: focus of economy, approaches to economy\n",
      "Cluster 190: dominant role of the Communist Party in politics, communist influence, Communist Party holding significant power and influence\n",
      "Cluster 191: limited political freedoms, freedom, political freedom\n",
      "Cluster 192: similar political ideologies, political ideologies, ideologies\n",
      "Cluster 193: political ideology, ideology\n",
      "Cluster 194: customs, similar customs, similar folk customs\n",
      "Cluster 195: influence of European cultures, influences from European history, European influence, Eastern European influence, dominance over Eastern Europe, Eastern European nations, Historical influences\n",
      "Cluster 196: religious heritage, Catholic heritage\n",
      "Cluster 197: size of economy, economy size, size of economies\n",
      "Cluster 198: communist ideology, communist ideology and political system\n",
      "Cluster 199: capitalist and communist ideologies, communist ideologies\n",
      "Cluster 200: tradition of democracy, tradition of democracy and human rights, tradition of democracy and individual freedoms\n",
      "Cluster 201: common history and cultural heritage, common heritage\n",
      "Cluster 202: history of communist ideology, communist history, communist past\n",
      "Cluster 203: History of communist rule, shared history of communist rule\n",
      "Cluster 204: heritage, strong cultural heritage, rich cultural heritage, cultural heritage, cultural heritages, archaeological heritage\n",
      "Cluster 205: shared European heritage, European heritage\n",
      "Cluster 206: traditional practices, mix of traditional and modern practices\n",
      "Cluster 207: strong economy, strength of economies, economic strength, strength of economy, strong economies\n",
      "Cluster 208: history of political interaction, political history, complex history of political\n",
      "Cluster 209: global superpower status, superpower status, role as a global superpower, global superpower\n",
      "Cluster 210: being major world powers, major world powers\n",
      "Cluster 211: type of economies, type of economy\n",
      "Cluster 212: emphasis on human rights, human rights\n",
      "Cluster 213: diversity in languages, population language diversity\n",
      "Cluster 214: commitment to human rights and individual freedoms, commitment to human rights, commitment to individual freedoms\n",
      "Cluster 215: cultural similarities, cultural differences, similar cultural influences and values, Cultural similarity\n",
      "Cluster 216: diverse geography, geographical diversity\n",
      "Cluster 217: landscape diversity, diverse landscape\n",
      "Cluster 218: geographical landscapes, landscapes, similar landscapes, landscape\n",
      "Cluster 219: focus on economic development, current economic development, economic development, recent economic development, development of economy\n",
      "Cluster 220: levels of economic development, levels of social and economic development\n",
      "Cluster 221: economic relationship, economic relationships, economic relations\n",
      "Cluster 222: strong economic ties, economic ties, history of economic ties\n",
      "Cluster 223: political ties, history of political ties\n",
      "Cluster 224: trade relationships, trade relations, trade relationship\n",
      "Cluster 225: trading partnerships, trading partnership, trading partners, trade agreements, trade partnerships\n",
      "Cluster 226: economic exchanges, trade exchange\n",
      "Cluster 227: cultural backgrounds, cultural background\n",
      "Cluster 228: cultural practices and traditions, cultural traditions\n",
      "Cluster 229: customs and traditions, cultural traditions and customs, traditions and customs\n",
      "Cluster 230: past political structures, past political structure\n",
      "Cluster 231: political structures, political structure\n",
      "Cluster 232: democracies, parliamentary democracies\n",
      "Cluster 233: economic, economies, economy\n",
      "Cluster 234: market-based economies, market-based economy, market economy\n",
      "Cluster 235: emphasis on personal freedom, emphasis on individual freedom\n",
      "Cluster 236: cultural impact, foreign influences, cultural influences, cultural influence, impact on culture and society\n",
      "Cluster 237: cultural and historical ties, cultural connections, historical ties, history of cultural and economic ties with other nations, cultural ties, history of cultural ties\n",
      "Cluster 238: historical connection, historical connections\n",
      "Cluster 239: geographic influences, regional influences\n",
      "Cluster 240: history of trade, history of bilateral trade\n",
      "Cluster 241: cultural context, cultural contexts\n",
      "Cluster 242: government type, type of government\n",
      "Cluster 243: individual rights and freedoms, individual freedoms\n",
      "Cluster 244: emphasis on individual rights and freedoms, emphasis on individual freedoms, emphasis on human rights and individual freedoms, emphasis on individual freedoms and human rights\n",
      "Cluster 245: rich culture, cultural richness\n",
      "Cluster 246: limited engagement with the global community, engagement with international community, willingness to engage with the international community, engagement with the global community\n",
      "Cluster 247: cultural exchange, cultural exchanges, trade and cultural exchanges\n",
      "Cluster 248: history of trade and cultural exchange, history of cultural exchange\n",
      "Cluster 249: population diversity, diversity of population\n",
      "Cluster 250: diverse population, diverse populations\n",
      "Cluster 251: economic similarities, Economic similarity, similar economies\n",
      "Cluster 252: diplomacy, international diplomacy, emphasis on international diplomacy\n",
      "Cluster 253: international relationships, relationships with the international community, relationship between the countries, relationships with other countries, influences from neighboring countries, relationships with neighboring countries, being neighboring countries\n",
      "Cluster 254: ongoing conflicts with neighboring countries, history of conflict with neighboring countries, history of conflict, conflicts with neighboring countries\n",
      "Cluster 255: diplomatic relations, diplomatic relationship, diplomatic ties\n",
      "Cluster 256: history of diplomatic relations, history of trade and diplomatic relations\n",
      "Cluster 257: presidential system of government, being federal republics with a presidential system, federal republic with a presidential system\n",
      "Cluster 258: global influence, limited international influence, international influence\n",
      "Cluster 259: multiculturalism policy, multiculturalism\n",
      "Cluster 260: international involvement, extent of international involvement\n",
      "Cluster 261: approaches to international relations, international relations\n",
      "Cluster 262: diversity of society, diverse societies\n",
      "Cluster 263: democratic governance, history of democratic governance\n",
      "Cluster 264: approaches to governance, governance structure, governance, governance structures, type of governance, state governance\n",
      "Cluster 265: Economic systems, economic system, economic systems\n",
      "Cluster 266: influence on global politics, having significant influence on global politics, impact on global politics, influence in global affairs\n",
      "Cluster 267: involvement in global politics, role in international politics, roles in global politics and international relations, role in global politics, involvement in international politics\n",
      "Cluster 268: role in international affairs, roles in international relations\n",
      "Cluster 269: being democratic countries, democratic countries, democratic nations\n",
      "Cluster 270: similar economic and political systems, political and economic systems\n",
      "Cluster 271: ethnic groups, ethnicities\n",
      "Cluster 272: political systems, political system\n",
      "Cluster 273: similar political systems, similar political system\n",
      "Cluster 274: system of government, systems of government, government systems\n",
      "Cluster 275: similar federal system of government, federal system, federal system of government\n",
      "Cluster 276: democratic systems, democratic systems of government, democratic form of government, similar democratic systems of government, similar democratic systems\n",
      "Cluster 277: democratic governments, democratic government\n",
      "Cluster 278: cultural, cultures, culture\n",
      "Cluster 279: unique cultures, distinct cultures, unique culture\n",
      "Cluster 280: cultural diversity, diversity of culture, diverse cultures, diverse culture, diversity in cultures\n",
      "Cluster 281: diverse ethnic groups, Ethnic diversity, ethnic diversity, diversity in ethnicities, ethnic and linguistic diversity\n"
     ]
    }
   ],
   "source": [
    "import re\n",
    "\n",
    "# text = \"\"\"Cluster 94: ['family ties', 'family connections']\n",
    "# Cluster 157: ['international alliances', 'responses and alliances', 'strong alliances with other Western countries', 'alliances', 'strong alliance', 'historical alliances', 'alliances and conflicts', 'political alliances', 'alliance history']\n",
    "# Cluster 76: ['national security strategies', 'belief in the importance of national security', 'emphasis on national security and defense', 'emphasis on national defense', 'commitment to national security', 'commitment to combating terrorism', 'focus on defense and security']\n",
    "# Cluster 221: ['economic relationship', 'economic relationships', 'economic relations']\"\"\"\n",
    "\n",
    "with open('./results/clusters_all_models_SSD_temp_0.txt', 'r') as f:\n",
    "    clusters = f.read()\n",
    "\n",
    "# Split the text into lines\n",
    "lines = clusters.split('\\n')\n",
    "\n",
    "# Create a list of tuples (cluster_number, cluster_terms)\n",
    "clusters = []\n",
    "for line in lines:\n",
    "    match = re.match(r'Cluster (\\d+): \\[(.*?)\\]', line)\n",
    "    if match:\n",
    "        cluster_number = int(match.group(1))\n",
    "        cluster_terms = match.group(2).strip(\"'\").split(\"', '\")\n",
    "        clusters.append((cluster_number, cluster_terms))\n",
    "\n",
    "# Sort the clusters by cluster number\n",
    "sorted_clusters = sorted(clusters, key=lambda x: x[0])\n",
    "\n",
    "# Print the sorted clusters\n",
    "with open('./results/clusters_all_models_SSD_temp_0.txt', 'w') as f:\n",
    "\n",
    "    for cluster_number, cluster_terms in sorted_clusters:\n",
    "        print(f\"Cluster {cluster_number}: {', '.join(cluster_terms)}\")\n",
    "        f.write(f\"Cluster {cluster_number}: {', '.join(cluster_terms)}\")"
   ]
  },
  {
   "cell_type": "code",
   "execution_count": null,
   "metadata": {},
   "outputs": [],
   "source": []
  }
 ],
 "metadata": {
  "kernelspec": {
   "display_name": "LLM_Context_Effects",
   "language": "python",
   "name": "python3"
  },
  "language_info": {
   "codemirror_mode": {
    "name": "ipython",
    "version": 3
   },
   "file_extension": ".py",
   "mimetype": "text/x-python",
   "name": "python",
   "nbconvert_exporter": "python",
   "pygments_lexer": "ipython3",
   "version": "3.9.19"
  }
 },
 "nbformat": 4,
 "nbformat_minor": 2
}
